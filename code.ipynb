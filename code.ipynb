{
 "cells": [
  {
   "cell_type": "markdown",
   "metadata": {},
   "source": [
    "# Tasks\n",
    "\n",
    "## Linear Regression\n",
    "Linear regression is a ML algorithm that attempts to model the relationship between two variables by fitting a linear equation to observed data. Linear regression attempts to draw a straight line that will best minimize the residual sum of squares between the observed responses in the dataset, and the responses predicted by the linear approximation.It fits a linear model to minimize the residual sum of squares between the observed targets in the dataset, and the targets predicted by the linear approximation. \n",
    "\n",
    "LinearRegression().fit() is a function of the Class sklearn.linear_model.LinearRegression. \n",
    "\n",
    "The method LinearRegression().fit()  fits the model to the training database during the training part of the process.This algorithm gives us required coefficients which are necessary to predict the output for the test dataset.  In other words,LinearRegression().fit() fits the model. It returns self, which is the variable model itself. \n",
    "\n",
    "\n",
    "## Calculating Bias and Variance\n",
    "This question aims at exploring and calculating the bias and variance of different models. \n",
    "\n",
    "__Bias__ is the difference between the average prediction of our model and the actual value we are trying to predict. A model with a high bias pays little attention to the training data and oversimplifies the function it is trying to predict. Thus it ends up with a high error on both the training and test data. \n",
    "\n",
    "Bias = E[$\\hat{f}$(x)] − $f$(x)\n",
    "\n",
    "__Variance__ is the variability of a model prediction for a given data point. It captures how much the model predictions for a given point vary between different realizations of the model.\n",
    "\n",
    "Variance = E[ ($\\hat{f}$(x) − E[$\\hat{f}$(x)])<sup>2</sup> ] \n",
    " \n",
    "Here, we train 20 different functions, each of which is trained separately on 10 different datasets. The 10 realizations of each model are used to calculate the bias and variance of that model on each point of a test set.\n",
    "\n"
   ]
  },
  {
   "cell_type": "code",
   "execution_count": 1,
   "metadata": {},
   "outputs": [],
   "source": [
    "# importing required libraries\n",
    "import pandas as pd\n",
    "import numpy as np\n",
    "import matplotlib.pyplot as plt\n",
    "from sklearn.preprocessing import PolynomialFeatures\n",
    "from sklearn.linear_model import LinearRegression\n",
    "import pickle\n",
    "import operator"
   ]
  },
  {
   "cell_type": "markdown",
   "metadata": {},
   "source": [
    "### Dataset Preprocessing\n",
    "In this section, we load the dataset, ensuring that it is in a form that can be used for\n",
    "training the model."
   ]
  },
  {
   "cell_type": "code",
   "execution_count": 2,
   "metadata": {},
   "outputs": [],
   "source": [
    "# loading train and test file\n",
    "with open('./train.pkl','rb') as f:\n",
    "    Training_data = pickle.load(f)\n",
    "with open('./test.pkl','rb') as f:\n",
    "    Test_data = pickle.load(f)\n"
   ]
  },
  {
   "cell_type": "code",
   "execution_count": 3,
   "metadata": {},
   "outputs": [],
   "source": [
    "# shuffling training data for random distribution of dataset\n",
    "np.random.shuffle(Training_data)\n",
    "\n",
    "#splitting training data into 10 equal sets\n",
    "Train_data = np.array_split(Training_data,10)\n",
    "\n",
    "#spliting x dataset from training set\n",
    "X_test = np.hsplit(Test_data,2)[0]\n",
    "\n",
    "#splitting y dataset from training set \n",
    "Y_test = np.hsplit(Test_data,2)[1]\n",
    "\n",
    "ax = operator.itemgetter(0)\n",
    "Sorted_array = sorted(zip(X_test,Y_test), key = ax)\n",
    "X_test, Y_test = zip(*Sorted_array)\n",
    "\n",
    "#splitting x and y points in training data set \n",
    "X_train = []\n",
    "Y_train = []\n",
    "for i in range(10):\n",
    "    X_train.append(np.hsplit(Train_data[i],2)[0])\n",
    "    Y_train.append(np.hsplit(Train_data[i],2)[1])\n",
    "\n",
    "Degree = []\n",
    "for i in range(1,21):\n",
    "    Degree.append(i)\n",
    "# declaring array which store bias, bias_sqr, variance, irreducible error, mean square error for degree i+1(i is the index of the arrays)\n",
    "model_bias = []\n",
    "model_bias_sqr = []\n",
    "model_variance = []\n",
    "model_irreducible_err = []\n",
    "model_mean_sqr_err = []\n",
    "Y_predicted_test_set = []"
   ]
  },
  {
   "cell_type": "code",
   "execution_count": 4,
   "metadata": {},
   "outputs": [
    {
     "data": {
      "image/png": "[encoded data removed]",
      "text/plain": [
       "<Figure size 432x288 with 1 Axes>"
      ]
     },
     "metadata": {
      "needs_background": "light"
     },
     "output_type": "display_data"
    }
   ],
   "source": [
    "# displaying the test data set \n",
    "plt.scatter(X_test,Y_test)\n",
    "plt.xlabel('X points')\n",
    "plt.ylabel('Y points')\n",
    "plt.title('Test dataset')\n",
    "plt.show()"
   ]
  },
  {
   "cell_type": "markdown",
   "metadata": {},
   "source": [
    "### Training\n",
    "In this section, we train the models on the training dataset.\n",
    "\n",
    "In the following cell, we train each model (i.e. polynomial of a particular degree) 10 times, once on each partition. We run an outer loop ->\n",
    "\n",
    "   _for i in range(1,21): create_polynomial_regression_model(i)_\n",
    "\n",
    "which calls a function create_polynomial_regression_model(i) for calculating bias,variance,MSE,irreducible error for each degree i (for 20 degree's).In that function we are calling another loop which train 10 models for that function class on 10 different dataset which we have splitted earlier in X_train and Y_train.\n",
    "then we use preprocessing.PolynomialFeatures() to extend our dataset according to the degree of plolynomial.\n",
    "Later on we train our model using all the 10 trianing set in the for loop and store the predicted value for training model for test set in Y_predicted array (i.e. array in array) \n",
    "\n",
    "For calculating bias, some basic arithimatic is done according to formula of bias, variance.We got predicted value of every test data point with 10 models we trained for each degree. \n",
    "To calculate the bias we took average of all the 10 output values for each degree and applied bias formula on it.\n",
    "similarly we calculate bias square for each point and then took the average of all 800 points to find final bias.\n",
    "\n",
    "For variance we calculated mean of squared output and square of means output for every data input point and then subtracted them to calculate variance.\n",
    "\n",
    "For mean square error i.e.\n",
    "\n",
    "E[($f$-$\\hat{f}$)<sup>2</sup>] = E[$f$<sup>2</sup>] + E[$\\hat{f}$<sup>2</sup>] -2.E[$f$]$.$E[$\\hat{f}$]\n",
    "\n",
    "we calculated mean square error for each input point and then took the mean of that for points for average mean.\n",
    "\n",
    "For irreducible error we calculated irreducible error for each 800 input points and then took mean of that 800 points to calculate irreducible error for each function model class"
   ]
  },
  {
   "cell_type": "code",
   "execution_count": 5,
   "metadata": {},
   "outputs": [],
   "source": [
    "#function for training data and \n",
    "def create_polynomial_regression_model(degree):\n",
    "    # 10X(elements in training set) array output of each test set for all 10 models\n",
    "    Y_predicted = []\n",
    "    \n",
    "    poly_features = PolynomialFeatures(degree=degree)\n",
    "    for i in range(10):\n",
    "        # transforms the existing features to higher degree features.\n",
    "        X_train_poly = poly_features.fit_transform(X_train[i])\n",
    "        \n",
    "        poly_model = LinearRegression()\n",
    "        poly_model.fit(X_train_poly, Y_train[i])\n",
    "        \n",
    "        Y_test_predict = poly_model.predict(poly_features.fit_transform(X_test))\n",
    "#         ax = operator.itemgetter(0)\n",
    "#         Sorted_array = sorted(zip(X_test,Y_test_predict), ax)\n",
    "#         X_test, Y_test_predict = zip(*Sorted_array)\n",
    "        Y_predicted.append(Y_test_predict)\n",
    "        if(i==1):\n",
    "            Y_predicted_test_set.append(Y_test_predict)\n",
    "        \n",
    "#         plt.scatter(X_test,Y_test)\n",
    "#         plt.plot(X_test, Y_test_predict)\n",
    "#         plt.show()\n",
    "        \n",
    "        \n",
    "    Y_predicted_mean = np.mean(Y_predicted,axis=0)\n",
    "    bias = np.absolute(np.subtract(Y_predicted_mean, Y_test))\n",
    "    bias_sqr = np.power(bias,2)\n",
    "    model_bias.append(np.mean(bias))\n",
    "    model_bias_sqr.append(np.mean(bias_sqr))\n",
    "    Y_predicted_square = np.square(Y_predicted)\n",
    "    Y_predicted_square_mean = np.mean(Y_predicted_square,axis=0)\n",
    "    Y_predicted_mean_square = np.square(Y_predicted_mean)\n",
    "    Variance = np.subtract(Y_predicted_square_mean , Y_predicted_mean_square)\n",
    "    model_variance.append(np.mean(Variance))\n",
    "    Y_test_square = np.square(Y_test)\n",
    "    Y_2ab_factor = np.multiply(Y_test,Y_predicted_mean)\n",
    "    Y_2ab_factor = np.multiply(Y_2ab_factor,-2)\n",
    "    Y_irreducible_error = np.add(Y_test_square,Y_predicted_square_mean)\n",
    "    Y_irreducible_error = np.add(Y_irreducible_error,Y_2ab_factor)\n",
    "    model_mean_sqr_err.append(np.mean(Y_irreducible_error))\n",
    "    Y_irreducible_error = np.subtract(Y_irreducible_error,bias_sqr)\n",
    "    Y_irreducible_error = np.subtract(Y_irreducible_error,Variance)\n",
    "    model_irreducible_err.append(np.mean(Y_irreducible_error))\n",
    "    \n",
    "    \n",
    "    \n"
   ]
  },
  {
   "cell_type": "code",
   "execution_count": 6,
   "metadata": {
    "scrolled": true
   },
   "outputs": [
    {
     "data": {
      "text/html": [
       "<div>\n",
       "<style scoped>\n",
       "    .dataframe tbody tr th:only-of-type {\n",
       "        vertical-align: middle;\n",
       "    }\n",
       "\n",
       "    .dataframe tbody tr th {\n",
       "        vertical-align: top;\n",
       "    }\n",
       "\n",
       "    .dataframe thead th {\n",
       "        text-align: right;\n",
       "    }\n",
       "</style>\n",
       "<table border=\"1\" class=\"dataframe\">\n",
       "  <thead>\n",
       "    <tr style=\"text-align: right;\">\n",
       "      <th></th>\n",
       "      <th>Degree</th>\n",
       "      <th>Bias</th>\n",
       "      <th>variance</th>\n",
       "    </tr>\n",
       "  </thead>\n",
       "  <tbody>\n",
       "    <tr>\n",
       "      <th>0</th>\n",
       "      <td>1</td>\n",
       "      <td>819.937274</td>\n",
       "      <td>27151.984278</td>\n",
       "    </tr>\n",
       "    <tr>\n",
       "      <th>1</th>\n",
       "      <td>2</td>\n",
       "      <td>810.691675</td>\n",
       "      <td>67008.276991</td>\n",
       "    </tr>\n",
       "    <tr>\n",
       "      <th>2</th>\n",
       "      <td>3</td>\n",
       "      <td>65.545025</td>\n",
       "      <td>70587.087913</td>\n",
       "    </tr>\n",
       "    <tr>\n",
       "      <th>3</th>\n",
       "      <td>4</td>\n",
       "      <td>73.112131</td>\n",
       "      <td>78597.919665</td>\n",
       "    </tr>\n",
       "    <tr>\n",
       "      <th>4</th>\n",
       "      <td>5</td>\n",
       "      <td>71.888672</td>\n",
       "      <td>95260.966333</td>\n",
       "    </tr>\n",
       "    <tr>\n",
       "      <th>5</th>\n",
       "      <td>6</td>\n",
       "      <td>68.416421</td>\n",
       "      <td>109729.133709</td>\n",
       "    </tr>\n",
       "    <tr>\n",
       "      <th>6</th>\n",
       "      <td>7</td>\n",
       "      <td>70.562224</td>\n",
       "      <td>153932.477382</td>\n",
       "    </tr>\n",
       "    <tr>\n",
       "      <th>7</th>\n",
       "      <td>8</td>\n",
       "      <td>71.224691</td>\n",
       "      <td>180150.728264</td>\n",
       "    </tr>\n",
       "    <tr>\n",
       "      <th>8</th>\n",
       "      <td>9</td>\n",
       "      <td>70.497697</td>\n",
       "      <td>191665.290876</td>\n",
       "    </tr>\n",
       "    <tr>\n",
       "      <th>9</th>\n",
       "      <td>10</td>\n",
       "      <td>76.347480</td>\n",
       "      <td>204869.438773</td>\n",
       "    </tr>\n",
       "    <tr>\n",
       "      <th>10</th>\n",
       "      <td>11</td>\n",
       "      <td>73.388275</td>\n",
       "      <td>197770.176205</td>\n",
       "    </tr>\n",
       "    <tr>\n",
       "      <th>11</th>\n",
       "      <td>12</td>\n",
       "      <td>104.047663</td>\n",
       "      <td>192139.895037</td>\n",
       "    </tr>\n",
       "    <tr>\n",
       "      <th>12</th>\n",
       "      <td>13</td>\n",
       "      <td>79.023139</td>\n",
       "      <td>213061.081107</td>\n",
       "    </tr>\n",
       "    <tr>\n",
       "      <th>13</th>\n",
       "      <td>14</td>\n",
       "      <td>114.109246</td>\n",
       "      <td>188083.657579</td>\n",
       "    </tr>\n",
       "    <tr>\n",
       "      <th>14</th>\n",
       "      <td>15</td>\n",
       "      <td>154.369701</td>\n",
       "      <td>205500.639920</td>\n",
       "    </tr>\n",
       "    <tr>\n",
       "      <th>15</th>\n",
       "      <td>16</td>\n",
       "      <td>158.562206</td>\n",
       "      <td>208585.531047</td>\n",
       "    </tr>\n",
       "    <tr>\n",
       "      <th>16</th>\n",
       "      <td>17</td>\n",
       "      <td>232.371078</td>\n",
       "      <td>228327.616445</td>\n",
       "    </tr>\n",
       "    <tr>\n",
       "      <th>17</th>\n",
       "      <td>18</td>\n",
       "      <td>234.641181</td>\n",
       "      <td>241911.277006</td>\n",
       "    </tr>\n",
       "    <tr>\n",
       "      <th>18</th>\n",
       "      <td>19</td>\n",
       "      <td>302.040083</td>\n",
       "      <td>260230.525060</td>\n",
       "    </tr>\n",
       "    <tr>\n",
       "      <th>19</th>\n",
       "      <td>20</td>\n",
       "      <td>303.076958</td>\n",
       "      <td>283878.908010</td>\n",
       "    </tr>\n",
       "  </tbody>\n",
       "</table>\n",
       "</div>"
      ],
      "text/plain": [
       "    Degree        Bias       variance\n",
       "0        1  819.937274   27151.984278\n",
       "1        2  810.691675   67008.276991\n",
       "2        3   65.545025   70587.087913\n",
       "3        4   73.112131   78597.919665\n",
       "4        5   71.888672   95260.966333\n",
       "5        6   68.416421  109729.133709\n",
       "6        7   70.562224  153932.477382\n",
       "7        8   71.224691  180150.728264\n",
       "8        9   70.497697  191665.290876\n",
       "9       10   76.347480  204869.438773\n",
       "10      11   73.388275  197770.176205\n",
       "11      12  104.047663  192139.895037\n",
       "12      13   79.023139  213061.081107\n",
       "13      14  114.109246  188083.657579\n",
       "14      15  154.369701  205500.639920\n",
       "15      16  158.562206  208585.531047\n",
       "16      17  232.371078  228327.616445\n",
       "17      18  234.641181  241911.277006\n",
       "18      19  302.040083  260230.525060\n",
       "19      20  303.076958  283878.908010"
      ]
     },
     "execution_count": 6,
     "metadata": {},
     "output_type": "execute_result"
    }
   ],
   "source": [
    "for i in range(1,21):\n",
    "    create_polynomial_regression_model(i)\n",
    "# TASK - 2 \n",
    "df = pd.DataFrame({'Degree':Degree,'Bias':model_bias,'variance':model_variance})\n",
    "df"
   ]
  },
  {
   "cell_type": "markdown",
   "metadata": {},
   "source": [
    "### Analysis \n",
    "Now that we have the plots for the squared bias and variance of each model, we can analyse and\n",
    "compare their performance.\n",
    "\n",
    "__Bias__ As the degree of the polynomial hypothesis increases, the function becomes more flexible,\n",
    "allowing it to better mould itself to fit the training dataset. Hence, the error on the test dataset\n",
    "also decreases. Because the bias (the average difference between the predicted and actual values)\n",
    "effectively captures this error, we see a steadily deceasing trend in the bias values with an increase\n",
    "in degree of the hypothesis function.\n",
    "The change, however, is not so marked after degree 4-5 which hints at the fact that the data is best\n",
    "modelled by a degree 4-5 hypothesis, and a further increase in degree of the hypothesis would be\n",
    "frivolous.\n",
    "\n",
    "__Variance__ Save for an initial anomaly, the variance of the models shows a general increase with\n",
    "an increase in the degree of the hypothesis. This is because as the degree of the polynomial\n",
    "increases and it becomes more flexible, it also becomes more susceptible to minor variations in\n",
    "the training dataset. Hence, each time the model is trained, the increased flexibility of the highed\n",
    "degree polynomials causes the coefficients to turn out significantly different due to differences in\n",
    "the training set. Hence, the high variance on the test dataset.\n",
    "The degree one hypothesis has an abnormally high variance because the lack of any flexibility at\n",
    "all causes the models to turn out vastly different from each other as the learning algorithm tries\n",
    "to fit them to points that vary slightly amongst the different training sets. Because the hypothesis\n",
    "lacks the flexibility to account for these variations, they cause the entire model to train drastically\n",
    "differently."
   ]
  },
  {
   "cell_type": "code",
   "execution_count": 7,
   "metadata": {},
   "outputs": [
    {
     "data": {
      "text/plain": [
       "[]"
      ]
     },
     "execution_count": 7,
     "metadata": {},
     "output_type": "execute_result"
    },
    {
     "data": {
      "image/png": "[encoded data removed]",
      "text/plain": [
       "<Figure size 432x288 with 1 Axes>"
      ]
     },
     "metadata": {
      "needs_background": "light"
     },
     "output_type": "display_data"
    }
   ],
   "source": [
    "plt.plot(Degree,model_bias_sqr)\n",
    "plt.title('Bias^2 with degree')\n",
    "plt.xlabel('degree')\n",
    "plt.ylabel('Bias^2')\n",
    "plt.plot()"
   ]
  },
  {
   "cell_type": "code",
   "execution_count": 8,
   "metadata": {},
   "outputs": [
    {
     "data": {
      "text/plain": [
       "[]"
      ]
     },
     "execution_count": 8,
     "metadata": {},
     "output_type": "execute_result"
    },
    {
     "data": {
      "image/png": "[encoded data removed]",
      "text/plain": [
       "<Figure size 432x288 with 1 Axes>"
      ]
     },
     "metadata": {
      "needs_background": "light"
     },
     "output_type": "display_data"
    }
   ],
   "source": [
    "plt.plot(Degree,model_variance,color=\"green\")\n",
    "plt.title('Variance with degree')\n",
    "plt.xlabel('degree')\n",
    "plt.ylabel('Variance')\n",
    "plt.plot()"
   ]
  },
  {
   "cell_type": "markdown",
   "metadata": {},
   "source": [
    "## Calculating Irreducible Error"
   ]
  },
  {
   "cell_type": "code",
   "execution_count": 9,
   "metadata": {},
   "outputs": [
    {
     "name": "stdout",
     "output_type": "stream",
     "text": [
      "    Degree  Irreducible error           MSE\n",
      "0        1       9.267751e-11  1.030456e+06\n",
      "1        2       5.293259e-11  1.022706e+06\n",
      "2        3      -1.701210e-10  7.905434e+04\n",
      "3        4      -2.673914e-11  8.595349e+04\n",
      "4        5      -2.117304e-10  1.021111e+05\n",
      "5        6       5.989023e-10  1.162168e+05\n",
      "6        7       2.690285e-10  1.612136e+05\n",
      "7        8       2.090019e-10  1.877471e+05\n",
      "8        9       1.882654e-11  1.990545e+05\n",
      "9       10       7.166818e-11  2.130558e+05\n",
      "10      11      -1.260560e-10  2.056213e+05\n",
      "11      12       5.002221e-11  2.115379e+05\n",
      "12      13       6.516530e-11  2.245761e+05\n",
      "13      14      -3.502919e-10  2.180275e+05\n",
      "14      15      -8.058123e-11  2.614350e+05\n",
      "15      16      -8.903953e-11  2.732862e+05\n",
      "16      17       3.115019e-10  3.408800e+05\n",
      "17      18      -2.236902e-10  3.641904e+05\n",
      "18      19       2.670276e-10  4.549343e+05\n",
      "19      20      -4.506546e-11  4.904471e+05\n"
     ]
    },
    {
     "data": {
      "text/plain": [
       "[]"
      ]
     },
     "execution_count": 9,
     "metadata": {},
     "output_type": "execute_result"
    },
    {
     "data": {
      "image/png": "[encoded data removed]",
      "text/plain": [
       "<Figure size 432x288 with 1 Axes>"
      ]
     },
     "metadata": {
      "needs_background": "light"
     },
     "output_type": "display_data"
    }
   ],
   "source": [
    "#Task - 3\n",
    "df = pd.DataFrame({'Degree': Degree,'Irreducible error':model_irreducible_err,'MSE':model_mean_sqr_err})\n",
    "print(df)\n",
    "plt.plot(Degree,model_irreducible_err,color=\"red\")\n",
    "plt.xlabel('degree')\n",
    "plt.ylabel('Irreducible_error')\n",
    "plt.title('Irreducible_error with degree')\n",
    "plt.plot()"
   ]
  },
  {
   "cell_type": "markdown",
   "metadata": {},
   "source": [
    "An irreducible error is an error that you get not because your model is not correct, but because of the noise in the data you\n",
    "are training or testing on. Hence, irreducible error doesn't change much with the model i.e our polynomial models from\n",
    "degree 1 to 20. The order of irreducible error is of $10^{-10}$ which is small and cannot be reducible.And the negative values of irreducible error are due to the floating-point precision error of the python interpreter."
   ]
  },
  {
   "cell_type": "markdown",
   "metadata": {},
   "source": [
    "## Plotting Bias <sup>2</sup> − V ariance graph"
   ]
  },
  {
   "cell_type": "code",
   "execution_count": 10,
   "metadata": {},
   "outputs": [
    {
     "data": {
      "image/png": "[encoded data removed]",
      "text/plain": [
       "<Figure size 432x288 with 1 Axes>"
      ]
     },
     "metadata": {
      "needs_background": "light"
     },
     "output_type": "display_data"
    }
   ],
   "source": [
    "# plt.plot(model_irreducible_err)\n",
    "\n",
    "plt.plot(Degree, model_variance,color=\"red\",label=\"Variance\")\n",
    "plt.plot(Degree, model_bias_sqr,color=\"green\",label=\"Bias^2\")\n",
    "plt.plot(Degree, model_mean_sqr_err,color = \"blue\",label=\"Total Error\")\n",
    "plt.xlabel('Model Complexity')\n",
    "plt.ylabel('Error')\n",
    "plt.legend()\n",
    "plt.show()\n"
   ]
  },
  {
   "cell_type": "markdown",
   "metadata": {},
   "source": [
    "This plot shows the squared bias and variance plotted on the same graph to visualize the BiasVariance Tradeoff. Please note that variance has been scaled to __150__ times the original to make the values of the same order.From the graphs, it is evident that an increase in degree beyond 6 does not bring\n",
    "much benefit in terms of bias, but just increases the variance for the worse.\n",
    "Because degree 4 has the least variance amongst degrees 4 to 6, it might be the\n",
    "best suited model for this case."
   ]
  }
 ],
 "metadata": {
  "kernelspec": {
   "display_name": "Python 3",
   "language": "python",
   "name": "python3"
  },
  "language_info": {
   "codemirror_mode": {
    "name": "ipython",
    "version": 3
   },
   "file_extension": ".py",
   "mimetype": "text/x-python",
   "name": "python",
   "nbconvert_exporter": "python",
   "pygments_lexer": "ipython3",
   "version": "3.6.9"
  }
 },
 "nbformat": 4,
 "nbformat_minor": 5
}
